{
 "cells": [
  {
   "cell_type": "markdown",
   "id": "881f6cfc",
   "metadata": {},
   "source": [
    "# Assignment 2\n",
    "\n",
    "This notebook contains the work for Assignment 2."
   ]
  },
  {
   "cell_type": "code",
   "execution_count": null,
   "id": "50e000cc",
   "metadata": {},
   "outputs": [],
   "source": [
    "# Import necessary libraries\n",
    "import pandas as pd\n",
    "import numpy as np"
   ]
  },
  {
   "cell_type": "markdown",
   "id": "9c9d0267",
   "metadata": {},
   "source": [
    "## Data Loading\n",
    "\n",
    "Load your dataset below."
   ]
  },
  {
   "cell_type": "code",
   "execution_count": null,
   "id": "93f216d8",
   "metadata": {},
   "outputs": [],
   "source": [
    "# Example: Load data (update the filename as needed)\n",
    "df = pd.read_csv(\"LC_DS_cleaned.csv.csv\")"
   ]
  },
  {
   "cell_type": "markdown",
   "id": "0bbd5d54",
   "metadata": {},
   "source": [
    "## Algorithms and Visualizations\n",
    "\n",
    "Apply machine learning algorithms and create visualizations below."
   ]
  },
  {
   "cell_type": "code",
   "execution_count": null,
   "id": "71123fa1",
   "metadata": {},
   "outputs": [],
   "source": [
    "# Algorithm 1: "
   ]
  },
  {
   "cell_type": "code",
   "execution_count": null,
   "id": "0494edd1",
   "metadata": {},
   "outputs": [],
   "source": [
    "# Algorithm 2:"
   ]
  },
  {
   "cell_type": "code",
   "execution_count": null,
   "id": "caa28682",
   "metadata": {},
   "outputs": [],
   "source": [
    "# Algorithm 3:"
   ]
  }
 ],
 "metadata": {
  "language_info": {
   "name": "python"
  }
 },
 "nbformat": 4,
 "nbformat_minor": 5
}
