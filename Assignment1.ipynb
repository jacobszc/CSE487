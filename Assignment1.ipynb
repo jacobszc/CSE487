{
 "cells": [
  {
   "cell_type": "code",
   "execution_count": 2,
   "id": "a3acc531-62a3-4fc5-bf5f-6f9d0bb76c35",
   "metadata": {},
   "outputs": [],
   "source": [
    "import pandas as pd\n"
   ]
  },
  {
   "cell_type": "code",
   "execution_count": 3,
   "id": "732d60e3-4cdd-4d11-afd7-34e2b803a363",
   "metadata": {},
   "outputs": [],
   "source": [
    "dataset = pd.read_csv(\"LC_DS.csv\")"
   ]
  },
  {
   "cell_type": "code",
   "execution_count": 4,
   "id": "11c69d4f-04bb-44a8-b7f1-1d4cb1db9694",
   "metadata": {},
   "outputs": [
    {
     "name": "stdout",
     "output_type": "stream",
     "text": [
      "Before: (890000, 17)\n",
      "After : (890000, 17)\n"
     ]
    }
   ],
   "source": [
    "# Remove duplicates \n",
    "before = dataset.shape\n",
    "dataset = dataset.drop_duplicates()\n",
    "after = dataset.shape\n",
    "\n",
    "print(\"Before:\", before)\n",
    "print(\"After :\", after)"
   ]
  },
  {
   "cell_type": "code",
   "execution_count": 6,
   "id": "e3f6f78f-26f0-42f7-bdcd-16b42aa4a313",
   "metadata": {},
   "outputs": [
    {
     "data": {
      "text/html": [
       "<div>\n",
       "<style scoped>\n",
       "    .dataframe tbody tr th:only-of-type {\n",
       "        vertical-align: middle;\n",
       "    }\n",
       "\n",
       "    .dataframe tbody tr th {\n",
       "        vertical-align: top;\n",
       "    }\n",
       "\n",
       "    .dataframe thead th {\n",
       "        text-align: right;\n",
       "    }\n",
       "</style>\n",
       "<table border=\"1\" class=\"dataframe\">\n",
       "  <thead>\n",
       "    <tr style=\"text-align: right;\">\n",
       "      <th></th>\n",
       "      <th>gender</th>\n",
       "      <th>smoking_status</th>\n",
       "    </tr>\n",
       "  </thead>\n",
       "  <tbody>\n",
       "    <tr>\n",
       "      <th>0</th>\n",
       "      <td>male</td>\n",
       "      <td>passive smoker</td>\n",
       "    </tr>\n",
       "    <tr>\n",
       "      <th>1</th>\n",
       "      <td>female</td>\n",
       "      <td>passive smoker</td>\n",
       "    </tr>\n",
       "    <tr>\n",
       "      <th>2</th>\n",
       "      <td>female</td>\n",
       "      <td>former smoker</td>\n",
       "    </tr>\n",
       "    <tr>\n",
       "      <th>3</th>\n",
       "      <td>female</td>\n",
       "      <td>passive smoker</td>\n",
       "    </tr>\n",
       "    <tr>\n",
       "      <th>4</th>\n",
       "      <td>male</td>\n",
       "      <td>passive smoker</td>\n",
       "    </tr>\n",
       "  </tbody>\n",
       "</table>\n",
       "</div>"
      ],
      "text/plain": [
       "   gender  smoking_status\n",
       "0    male  passive smoker\n",
       "1  female  passive smoker\n",
       "2  female   former smoker\n",
       "3  female  passive smoker\n",
       "4    male  passive smoker"
      ]
     },
     "execution_count": 6,
     "metadata": {},
     "output_type": "execute_result"
    }
   ],
   "source": [
    "# Normalize text\n",
    "dataset[\"gender\"] = dataset[\"gender\"].str.lower().str.strip()\n",
    "dataset[\"smoking_status\"] = dataset[\"smoking_status\"].str.lower().str.strip()\n",
    "dataset[[\"gender\", \"smoking_status\"]].head()"
   ]
  },
  {
   "cell_type": "code",
   "execution_count": 7,
   "id": "e36802e1-9250-4909-b7ea-704906304317",
   "metadata": {},
   "outputs": [
    {
     "name": "stderr",
     "output_type": "stream",
     "text": [
      "/var/folders/f_/98g2l_8979b28b5b13zc8stm0000gn/T/ipykernel_21999/3169185852.py:2: FutureWarning: Downcasting behavior in `replace` is deprecated and will be removed in a future version. To retain the old behavior, explicitly call `result.infer_objects(copy=False)`. To opt-in to the future behavior, set `pd.set_option('future.no_silent_downcasting', True)`\n",
      "  dataset[\"family_history\"] = dataset[\"family_history\"].replace({\"Yes\": 1, \"No\": 0})\n"
     ]
    },
    {
     "data": {
      "text/plain": [
       "family_history\n",
       "0    445181\n",
       "1    444819\n",
       "Name: count, dtype: int64"
      ]
     },
     "execution_count": 7,
     "metadata": {},
     "output_type": "execute_result"
    }
   ],
   "source": [
    "# Convert yes/no to 1/0\n",
    "dataset[\"family_history\"] = dataset[\"family_history\"].replace({\"Yes\": 1, \"No\": 0})\n",
    "dataset[\"family_history\"] = pd.to_numeric(dataset[\"family_history\"], errors=\"coerce\")\n",
    "dataset[\"family_history\"].value_counts()"
   ]
  },
  {
   "cell_type": "code",
   "execution_count": 8,
   "id": "7311540a-16f1-4a86-8054-ac351e9961ab",
   "metadata": {},
   "outputs": [
    {
     "data": {
      "text/plain": [
       "id                    0\n",
       "age                   0\n",
       "gender                0\n",
       "country               0\n",
       "diagnosis_date        0\n",
       "cancer_stage          0\n",
       "family_history        0\n",
       "smoking_status        0\n",
       "bmi                   0\n",
       "cholesterol_level     0\n",
       "hypertension          0\n",
       "asthma                0\n",
       "cirrhosis             0\n",
       "other_cancer          0\n",
       "treatment_type        0\n",
       "end_treatment_date    0\n",
       "survived              0\n",
       "dtype: int64"
      ]
     },
     "execution_count": 8,
     "metadata": {},
     "output_type": "execute_result"
    }
   ],
   "source": [
    "# Check for missing values\n",
    "dataset.isnull().sum()"
   ]
  },
  {
   "cell_type": "code",
   "execution_count": 9,
   "id": "09d561b7-66f0-4f55-b298-f914685e1941",
   "metadata": {},
   "outputs": [
    {
     "data": {
      "text/plain": [
       "diagnosis_date        datetime64[ns]\n",
       "end_treatment_date    datetime64[ns]\n",
       "dtype: object"
      ]
     },
     "execution_count": 9,
     "metadata": {},
     "output_type": "execute_result"
    }
   ],
   "source": [
    "# Fix data types (dates)\n",
    "dataset[\"diagnosis_date\"] = pd.to_datetime(dataset[\"diagnosis_date\"])\n",
    "dataset[\"end_treatment_date\"] = pd.to_datetime(dataset[\"end_treatment_date\"])\n",
    "dataset[[\"diagnosis_date\", \"end_treatment_date\"]].dtypes"
   ]
  },
  {
   "cell_type": "code",
   "execution_count": 10,
   "id": "ba567bd7-5bcf-4182-8326-5d7731671b1b",
   "metadata": {},
   "outputs": [
    {
     "data": {
      "text/plain": [
       "(Timestamp('2015-01-01 00:00:00'),\n",
       " Timestamp('2024-05-30 00:00:00'),\n",
       " (838231, 17))"
      ]
     },
     "execution_count": 10,
     "metadata": {},
     "output_type": "execute_result"
    }
   ],
   "source": [
    "# Filter by date \n",
    "dataset = dataset[dataset[\"diagnosis_date\"] >= \"2015-01-01\"]\n",
    "dataset[\"diagnosis_date\"].min(), dataset[\"diagnosis_date\"].max(), dataset.shape"
   ]
  },
  {
   "cell_type": "code",
   "execution_count": 11,
   "id": "e51ab866-caf7-4dcf-8fbd-a4e2e8c64228",
   "metadata": {},
   "outputs": [],
   "source": [
    "dataset.to_csv(\"LC_DS_cleaned.csv\", index=False)"
   ]
  },
  {
   "cell_type": "code",
   "execution_count": null,
   "id": "a5ad4707-2e7a-4e2e-8150-f2ff6e6736ac",
   "metadata": {},
   "outputs": [],
   "source": []
  }
 ],
 "metadata": {
  "kernelspec": {
   "display_name": "Python 3 (ipykernel)",
   "language": "python",
   "name": "python3"
  },
  "language_info": {
   "codemirror_mode": {
    "name": "ipython",
    "version": 3
   },
   "file_extension": ".py",
   "mimetype": "text/x-python",
   "name": "python",
   "nbconvert_exporter": "python",
   "pygments_lexer": "ipython3",
   "version": "3.13.4"
  }
 },
 "nbformat": 4,
 "nbformat_minor": 5
}
